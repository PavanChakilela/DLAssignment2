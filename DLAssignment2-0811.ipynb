{
 "cells": [
  {
   "cell_type": "code",
   "execution_count": 2,
   "metadata": {},
   "outputs": [
    {
     "name": "stdout",
     "output_type": "stream",
     "text": [
      "*\n",
      "\n",
      "**\n",
      "\n",
      "***\n",
      "\n",
      "****\n",
      "\n",
      "*****\n",
      "\n",
      "****\n",
      "\n",
      "***\n",
      "\n",
      "**\n",
      "\n",
      "*\n",
      "\n"
     ]
    }
   ],
   "source": [
    "#Create the below pattern using nested for loop in Python\n",
    "# *\n",
    "# * *\n",
    "# * * *\n",
    "# * * * *\n",
    "# * * * * *\n",
    "# * * * *\n",
    "# * * *\n",
    "# * *\n",
    "# *\n",
    "\n",
    "#no of rows: 9\n",
    "#no of cols: 5\n",
    "\n",
    "for i in range(1,10,1):\n",
    "    if i<=5:\n",
    "        for j in range(1,i+1,1):\n",
    "            print('*',end=\"\")\n",
    "    else:\n",
    "        for k in range(j,1,-1):\n",
    "            print(\"*\",end=\"\")\n",
    "        j = j -1\n",
    "    print(\"\\n\")   "
   ]
  },
  {
   "cell_type": "code",
   "execution_count": 5,
   "metadata": {},
   "outputs": [
    {
     "name": "stdout",
     "output_type": "stream",
     "text": [
      "Pls enter the word for reversal : chaki\n",
      "Reverse string:  ikahc\n"
     ]
    }
   ],
   "source": [
    "#Write a Python program to reverse a word after accepting the input from the user.\n",
    "#Sample Output:\n",
    "#Input word: ineuron\n",
    "\n",
    "input_str = input(\"Pls enter the word for reversal : \")\n",
    "#using [::-1]\n",
    "#input_str = input_str[::-1]\n",
    "#print(input_str)\n",
    "\n",
    "#using loop\n",
    "out_str = \"\"\n",
    "for i in input_str:\n",
    "    out_str = i + out_str\n",
    "print('Reverse string: ',out_str)"
   ]
  },
  {
   "cell_type": "code",
   "execution_count": null,
   "metadata": {},
   "outputs": [],
   "source": []
  }
 ],
 "metadata": {
  "kernelspec": {
   "display_name": "Python 3",
   "language": "python",
   "name": "python3"
  },
  "language_info": {
   "codemirror_mode": {
    "name": "ipython",
    "version": 3
   },
   "file_extension": ".py",
   "mimetype": "text/x-python",
   "name": "python",
   "nbconvert_exporter": "python",
   "pygments_lexer": "ipython3",
   "version": "3.7.4"
  }
 },
 "nbformat": 4,
 "nbformat_minor": 2
}
